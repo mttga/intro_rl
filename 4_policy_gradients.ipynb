{
 "cells": [
  {
   "cell_type": "markdown",
   "id": "121c3550-fb49-40c0-be20-20f46cd2a181",
   "metadata": {},
   "source": [
    "# Policy Gradients (within Discrete Actions)"
   ]
  },
  {
   "cell_type": "code",
   "execution_count": 1,
   "id": "0680e126-2f66-4901-aabb-02e19e46616c",
   "metadata": {},
   "outputs": [],
   "source": [
    "import os\n",
    "import gym\n",
    "import numpy as np\n",
    "import matplotlib.pyplot as plt\n",
    "import seaborn as sns\n",
    "from IPython.display import clear_output"
   ]
  },
  {
   "cell_type": "code",
   "execution_count": 2,
   "id": "b0690810-5a2e-486f-be11-4d72a3d724d2",
   "metadata": {},
   "outputs": [],
   "source": [
    "# Function to render in notebook\n",
    "def render_frame(env):\n",
    "    frame = env.render()  # Returns the rendered frame as an RGB array\n",
    "    plt.imshow(frame)\n",
    "    plt.axis('off')  # Hide axis for better visualization\n",
    "    clear_output(wait=True)  # Clear the previous frame\n",
    "    plt.show()"
   ]
  },
  {
   "cell_type": "code",
   "execution_count": 3,
   "id": "17f76772-1008-4a5c-ac39-09830270ca6c",
   "metadata": {},
   "outputs": [
    {
     "data": {
      "image/png": "[encoded data removed]",
      "text/plain": [
       "<Figure size 640x480 with 1 Axes>"
      ]
     },
     "metadata": {},
     "output_type": "display_data"
    }
   ],
   "source": [
    "# Initialize the environment\n",
    "env = gym.make(\"Acrobot-v1\", render_mode=\"rgb_array\")\n",
    "state, info = env.reset()\n",
    "\n",
    "render_frame(env)"
   ]
  },
  {
   "cell_type": "markdown",
   "id": "f42a52af-e159-46af-a1c9-48970ea258bc",
   "metadata": {},
   "source": [
    "### Goal \n",
    "- The goal is to apply torques on the actuated joint to swing the free end of the linear chain above a given height while starting from the initial state of hanging downwards.\n",
    "\n",
    "### Observation Space\n",
    "- The observation is a ndarray with shape (6,) of continuous variables\n",
    "    - cos(theta1) [-1, 1]\n",
    "    - sin(theta1) [-1, 1]\n",
    "    - cos(theta2) [-1, 1]\n",
    "    - sin(theta2) [-1, 1]\n",
    "    - Angular velocity of theta1 (-4$\\pi$, 4$\\pi$)\n",
    "    - Angular velocity of theta2 (-9$\\pi$, 9$\\pi$)\n",
    "\n",
    "where: \n",
    "- theta1 is the angle of the first joint, where an angle of 0 indicates the first link is pointing directly downwards.\n",
    "- theta2 is relative to the angle of the first link. An angle of 0 corresponds to having the same angle between the two links.\n",
    "\n",
    "### Action\n",
    "- 3 possible discrete actions:\n",
    "    - 0: apply -1 torque to the actuated joint (N/m)\n",
    "    - 1: apply 0 torque to the actuated joint (N/m)\n",
    "    - 2: apply +1 torque to the actuated joint (N/m)\n",
    "\n",
    "### Reward\n",
    "- -1 for each step\n",
    "\n",
    "### End of episode\n",
    "- The free end reaches the line or after 500 timesteps"
   ]
  },
  {
   "cell_type": "markdown",
   "id": "b6b5ce47-8fea-4cc8-bddc-ffac69c02ebf",
   "metadata": {},
   "source": [
    "### Random Policy"
   ]
  },
  {
   "cell_type": "code",
   "execution_count": 4,
   "id": "38218c58-a7f9-4d8f-bfe8-971279b75c24",
   "metadata": {},
   "outputs": [
    {
     "data": {
      "image/png": "[encoded data removed]",
      "text/plain": [
       "<Figure size 640x480 with 1 Axes>"
      ]
     },
     "metadata": {},
     "output_type": "display_data"
    }
   ],
   "source": [
    "# visualize random policy\n",
    "\n",
    "env = gym.make(\"Acrobot-v1\", render_mode=\"rgb_array\")\n",
    "state, info = env.reset()\n",
    "\n",
    "for _ in range(100):\n",
    "    state, reward, done, _, info = env.step(env.action_space.sample())\n",
    "    render_frame(env)\n",
    "\n",
    "env.close()"
   ]
  },
  {
   "cell_type": "code",
   "execution_count": 5,
   "id": "1e52184a-16c2-4f7e-8843-834f12f220cd",
   "metadata": {},
   "outputs": [
    {
     "data": {
      "text/plain": [
       "(Box([ -1.        -1.        -1.        -1.       -12.566371 -28.274334], [ 1.        1.        1.        1.       12.566371 28.274334], (6,), float32),\n",
       " Discrete(3))"
      ]
     },
     "execution_count": 5,
     "metadata": {},
     "output_type": "execute_result"
    }
   ],
   "source": [
    "env.observation_space, env.action_space"
   ]
  },
  {
   "cell_type": "markdown",
   "id": "a7c8e303-dc63-4e26-a10f-a42dccf27661",
   "metadata": {},
   "source": [
    "## Policy Network for Discrete Actions"
   ]
  },
  {
   "cell_type": "markdown",
   "id": "8fad695e-6d4a-4f91-bbae-c6b173e5fd3f",
   "metadata": {},
   "source": [
    "![policy_network](img/policy_network_discrete.png)"
   ]
  },
  {
   "cell_type": "code",
   "execution_count": 6,
   "id": "33aedbf4-556b-4d96-83fc-ace522cdc64d",
   "metadata": {},
   "outputs": [],
   "source": [
    "import torch\n",
    "import torch.nn as nn\n",
    "import torch.nn.functional as F\n",
    "from torch.distributions import Categorical\n",
    "\n",
    "class PolicyNetwork(nn.Module):\n",
    "    def __init__(self, obs_size, num_actions):\n",
    "        super(PolicyNetwork, self).__init__()\n",
    "        self.layer1 = nn.Linear(obs_size, 32)\n",
    "        self.layer2 = nn.Linear(32, num_actions)\n",
    "\n",
    "    def forward(self, x):\n",
    "        x = torch.relu(self.layer1(x))\n",
    "        logits = self.layer2(x)\n",
    "        probabilities = F.softmax(logits, dim=-1)\n",
    "        \n",
    "        pi = Categorical(probabilities)\n",
    "        action = pi.sample()\n",
    "        \n",
    "        return action, pi"
   ]
  },
  {
   "cell_type": "code",
   "execution_count": 7,
   "id": "ee3c9218-c1b6-4b8f-8c61-9798914df6cb",
   "metadata": {},
   "outputs": [
    {
     "data": {
      "text/plain": [
       "tensor(1)"
      ]
     },
     "execution_count": 7,
     "metadata": {},
     "output_type": "execute_result"
    }
   ],
   "source": [
    "p_network = PolicyNetwork(obs_size=6, num_actions=3)\n",
    "action, pi = p_network(torch.tensor(state))\n",
    "action"
   ]
  },
  {
   "cell_type": "code",
   "execution_count": 8,
   "id": "a3b20b3c-543e-4e39-9a27-18bb3435afec",
   "metadata": {},
   "outputs": [
    {
     "data": {
      "text/plain": [
       "tensor(2)"
      ]
     },
     "execution_count": 8,
     "metadata": {},
     "output_type": "execute_result"
    }
   ],
   "source": [
    "pi.sample()"
   ]
  },
  {
   "cell_type": "code",
   "execution_count": 9,
   "id": "8de45acd-6daa-4cea-9572-b9148f35dd52",
   "metadata": {},
   "outputs": [
    {
     "data": {
      "text/plain": [
       "tensor(-1.1057, grad_fn=<SqueezeBackward1>)"
      ]
     },
     "execution_count": 9,
     "metadata": {},
     "output_type": "execute_result"
    }
   ],
   "source": [
    "pi.log_prob(action)"
   ]
  },
  {
   "cell_type": "markdown",
   "id": "1f0f06cf-9e8d-433a-9b43-022cb6d94c03",
   "metadata": {},
   "source": [
    "## Reinforce"
   ]
  },
  {
   "cell_type": "markdown",
   "id": "c321bf2d-fd90-44e5-8f1a-796e4cde630b",
   "metadata": {},
   "source": [
    "![reinforce](img/reinforce.png)"
   ]
  },
  {
   "cell_type": "markdown",
   "id": "f91de463-2191-46ff-aa2a-370e8aad5ac7",
   "metadata": {},
   "source": [
    "Fun Fact: REINFORCE is an acronym for “ ‘RE’ward ‘I’ncrement ‘N’on-negative ‘F’actor times ‘O’ffset ‘R’einforcement times ‘C’haracteristic ‘E’ligibility"
   ]
  },
  {
   "cell_type": "code",
   "execution_count": 10,
   "id": "b2a03caf-d306-4b9f-abd0-95f8cfa9d116",
   "metadata": {},
   "outputs": [],
   "source": [
    "def reinforce(env, gamma=0.99, learning_rate=0.001, num_episodes=1000, training_episodes=4):\n",
    "\n",
    "    \"\"\"\n",
    "    A small difference with the pseudo code above is that in practice we generate multiple episodes\n",
    "    (controlled by \"training_episodes\") and compute a mean loss for all the collected esperiences. \n",
    "    This simple trick can help to reduce the high variance in Vanilla Policy Gradient traning. \n",
    "    \"\"\"\n",
    "    \n",
    "    obs_size = env.observation_space.shape[0]\n",
    "    num_actions = env.action_space.n  # For discrete action spaces\n",
    "    p_network = PolicyNetwork(obs_size=obs_size, num_actions=num_actions)\n",
    "    optimizer = torch.optim.Adam(p_network.parameters(), lr=learning_rate)\n",
    "\n",
    "    episode_returns = []\n",
    "    for episode in range(1, num_episodes + 1):\n",
    "        rewards = [] # (num_training_episodes, episode_length)\n",
    "        states = [] # (num_training_episodes*episode_length)\n",
    "        actions = [] # (num_training_episodes*episode_length)\n",
    "\n",
    "        for _ in range(training_episodes):\n",
    "            state, info = env.reset()\n",
    "            done = False\n",
    "            ep_rewards = []\n",
    "            while not done:\n",
    "                \n",
    "                with torch.no_grad():\n",
    "                    state_tensor = torch.tensor(state, dtype=torch.float32)\n",
    "                    action, pi = p_network(state_tensor)\n",
    "                    \n",
    "                    states.append(state_tensor)\n",
    "                    actions.append(action)\n",
    "                    \n",
    "                    state, reward, done, truncated, _ = env.step(action.item())\n",
    "                    done = done or truncated\n",
    "                    ep_rewards.append(reward)\n",
    "\n",
    "            rewards.append(ep_rewards)\n",
    "            episode_returns.append(sum(ep_rewards))\n",
    "\n",
    "        # Compute discounted returns\n",
    "        returns = []\n",
    "        for i in range(training_episodes):\n",
    "            R = 0\n",
    "            ep_returns = []\n",
    "            for r in reversed(rewards[i]):\n",
    "                R = r + gamma * R\n",
    "                ep_returns.insert(0, R)\n",
    "            returns.extend(ep_returns)\n",
    "\n",
    "        # (num_training_episodes*episode_length)\n",
    "        returns = torch.tensor(returns, dtype=torch.float32)\n",
    "\n",
    "        # Compute PG loss and optimize\n",
    "        _, pi = p_network(torch.stack(states))\n",
    "        log_probs = pi.log_prob(torch.stack(actions))\n",
    "        loss = -torch.mean(log_probs * returns)\n",
    "\n",
    "        optimizer.zero_grad()\n",
    "        loss.backward()\n",
    "        optimizer.step()\n",
    "\n",
    "        # Log\n",
    "        if episode % 100 == 0:\n",
    "            print(f'Episode {episode}, Loss: {loss:.2f}, Average Return: {np.mean(episode_returns[-100:])}')\n",
    "\n",
    "    return p_network, episode_returns"
   ]
  },
  {
   "cell_type": "code",
   "execution_count": 11,
   "id": "baf99a35-32a3-4f4d-afdd-e9642644752e",
   "metadata": {},
   "outputs": [
    {
     "name": "stdout",
     "output_type": "stream",
     "text": [
      "Episode 100, Loss: -87.75, Average Return: -500.0\n",
      "Episode 200, Loss: -87.60, Average Return: -500.0\n",
      "Episode 300, Loss: -86.65, Average Return: -500.0\n",
      "Episode 400, Loss: -86.48, Average Return: -499.4\n",
      "Episode 500, Loss: -83.24, Average Return: -495.04\n",
      "Episode 600, Loss: -86.47, Average Return: -498.14\n",
      "Episode 700, Loss: -84.53, Average Return: -479.62\n",
      "Episode 800, Loss: -77.21, Average Return: -371.24\n",
      "Episode 900, Loss: -51.13, Average Return: -206.63\n",
      "Episode 1000, Loss: -52.24, Average Return: -148.13\n",
      "CPU times: user 19min 19s, sys: 3min 46s, total: 23min 5s\n",
      "Wall time: 3min 33s\n"
     ]
    }
   ],
   "source": [
    "%%time\n",
    "p_network, returns = reinforce(env, num_episodes=1000, training_episodes=4)"
   ]
  },
  {
   "cell_type": "code",
   "execution_count": 12,
   "id": "6e4a5a4a-8023-48ec-85f9-dbaaf2d5a07f",
   "metadata": {},
   "outputs": [
    {
     "data": {
      "text/plain": [
       "Text(0, 0.5, 'Returns')"
      ]
     },
     "execution_count": 12,
     "metadata": {},
     "output_type": "execute_result"
    },
    {
     "data": {
      "image/png": "[encoded data removed]",
      "text/plain": [
       "<Figure size 640x480 with 1 Axes>"
      ]
     },
     "metadata": {},
     "output_type": "display_data"
    }
   ],
   "source": [
    "def running_mean(x, N=50):\n",
    "    cumsum = np.cumsum(np.insert(x, 0, 0)) \n",
    "    return (cumsum[N:] - cumsum[:-N]) / float(N)\n",
    "\n",
    "plt.plot(running_mean(returns))\n",
    "plt.xlabel('Episode')\n",
    "plt.ylabel('Returns')"
   ]
  },
  {
   "cell_type": "code",
   "execution_count": 13,
   "id": "4e926fcb-b6a0-4b43-8a72-74ae8d6054c6",
   "metadata": {},
   "outputs": [
    {
     "data": {
      "image/png": "[encoded data removed]",
      "text/plain": [
       "<Figure size 640x480 with 1 Axes>"
      ]
     },
     "metadata": {},
     "output_type": "display_data"
    },
    {
     "name": "stdout",
     "output_type": "stream",
     "text": [
      "-130.0\n"
     ]
    }
   ],
   "source": [
    "state, info = env.reset()\n",
    "render_frame(env)\n",
    "done = False\n",
    "\n",
    "r = 0\n",
    "while not done:\n",
    "\n",
    "    with torch.no_grad():\n",
    "        action, _ = p_network(torch.tensor(state))\n",
    "        \n",
    "    state, reward, done, truncated, _ = env.step(action)\n",
    "    done = done or truncated\n",
    "    render_frame(env)\n",
    "    r += reward\n",
    "\n",
    "print(r)"
   ]
  },
  {
   "cell_type": "code",
   "execution_count": null,
   "id": "49c186ca-3b4c-4c51-8bbe-5f6d0fe48146",
   "metadata": {},
   "outputs": [],
   "source": []
  }
 ],
 "metadata": {
  "kernelspec": {
   "display_name": "Python 3 (ipykernel)",
   "language": "python",
   "name": "python3"
  },
  "language_info": {
   "codemirror_mode": {
    "name": "ipython",
    "version": 3
   },
   "file_extension": ".py",
   "mimetype": "text/x-python",
   "name": "python",
   "nbconvert_exporter": "python",
   "pygments_lexer": "ipython3",
   "version": "3.11.5"
  }
 },
 "nbformat": 4,
 "nbformat_minor": 5
}
