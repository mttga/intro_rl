{
 "cells": [
  {
   "cell_type": "code",
   "execution_count": 1,
   "id": "3208e635-380e-4647-a1fe-d4e3ca037bbb",
   "metadata": {},
   "outputs": [],
   "source": [
    "import os\n",
    "import gym\n",
    "import random\n",
    "import numpy as np\n",
    "import matplotlib.pyplot as plt\n",
    "import seaborn as sns\n",
    "from IPython.display import clear_output\n",
    "from collections import namedtuple, deque"
   ]
  },
  {
   "cell_type": "code",
   "execution_count": 2,
   "id": "4bade829-ef6f-4437-9963-44949b0333e4",
   "metadata": {},
   "outputs": [],
   "source": [
    "# Function to render in notebook\n",
    "def render_frame(env):\n",
    "    frame = env.render()  # Returns the rendered frame as an RGB array\n",
    "    plt.imshow(frame)\n",
    "    plt.axis('off')  # Hide axis for better visualization\n",
    "    clear_output(wait=True)  # Clear the previous frame\n",
    "    plt.show()"
   ]
  },
  {
   "cell_type": "code",
   "execution_count": 3,
   "id": "ca538b01-9928-4c31-9ad1-62a17764f975",
   "metadata": {},
   "outputs": [
    {
     "data": {
      "image/png": "[encoded data removed]",
      "text/plain": [
       "<Figure size 640x480 with 1 Axes>"
      ]
     },
     "metadata": {},
     "output_type": "display_data"
    }
   ],
   "source": [
    "# Initialize the environment\n",
    "env = gym.make(\"Acrobot-v1\", render_mode=\"rgb_array\")\n",
    "state, info = env.reset()\n",
    "\n",
    "render_frame(env)"
   ]
  },
  {
   "cell_type": "markdown",
   "id": "ee0cc1c9-085c-47a2-9203-7307d8957e9b",
   "metadata": {},
   "source": [
    "### Goal \n",
    "- The goal is to apply torques on the actuated joint to swing the free end of the linear chain above a given height while starting from the initial state of hanging downwards.\n",
    "\n",
    "### Observation Space\n",
    "- The observation is a ndarray with shape (6,) of continuous variables\n",
    "    - cos(theta1) [-1, 1]\n",
    "    - sin(theta1) [-1, 1]\n",
    "    - cos(theta2) [-1, 1]\n",
    "    - sin(theta2) [-1, 1]\n",
    "    - Angular velocity of theta1 (-4$\\pi$, 4$\\pi$)\n",
    "    - Angular velocity of theta2 (-9$\\pi$, 9$\\pi$)\n",
    "\n",
    "where: \n",
    "- theta1 is the angle of the first joint, where an angle of 0 indicates the first link is pointing directly downwards.\n",
    "- theta2 is relative to the angle of the first link. An angle of 0 corresponds to having the same angle between the two links.\n",
    "\n",
    "### Action\n",
    "- 3 possible discrete actions:\n",
    "    - 0: apply -1 torque to the actuated joint (N/m)\n",
    "    - 1: apply 0 torque to the actuated joint (N/m)\n",
    "    - 2: apply +1 torque to the actuated joint (N/m)\n",
    "\n",
    "### Reward\n",
    "- -1 for each step\n",
    "\n",
    "### End of episode\n",
    "- The free end reaches the line or after 500 timesteps"
   ]
  },
  {
   "cell_type": "code",
   "execution_count": 4,
   "id": "820cf88c-bec1-4b0e-915b-36f9d75c2fb9",
   "metadata": {},
   "outputs": [
    {
     "data": {
      "text/plain": [
       "Box([ -1.        -1.        -1.        -1.       -12.566371 -28.274334], [ 1.        1.        1.        1.       12.566371 28.274334], (6,), float32)"
      ]
     },
     "execution_count": 4,
     "metadata": {},
     "output_type": "execute_result"
    }
   ],
   "source": [
    "env.observation_space"
   ]
  },
  {
   "cell_type": "code",
   "execution_count": 5,
   "id": "800301a6-752d-4f97-89f1-f714ceac98f0",
   "metadata": {},
   "outputs": [
    {
     "data": {
      "text/plain": [
       "Discrete(3)"
      ]
     },
     "execution_count": 5,
     "metadata": {},
     "output_type": "execute_result"
    }
   ],
   "source": [
    "env.action_space"
   ]
  },
  {
   "cell_type": "code",
   "execution_count": 6,
   "id": "14906239-e57c-4533-b450-94fc07975e0a",
   "metadata": {},
   "outputs": [
    {
     "data": {
      "image/png": "[encoded data removed]",
      "text/plain": [
       "<Figure size 640x480 with 1 Axes>"
      ]
     },
     "metadata": {},
     "output_type": "display_data"
    }
   ],
   "source": [
    "# visualize random policy\n",
    "\n",
    "env = gym.make(\"Acrobot-v1\", render_mode=\"rgb_array\")\n",
    "state, info = env.reset()\n",
    "\n",
    "for _ in range(100):\n",
    "    state, reward, done, _, info = env.step(env.action_space.sample())\n",
    "    render_frame(env)\n",
    "\n",
    "env.close()"
   ]
  },
  {
   "cell_type": "markdown",
   "id": "aba90460-86e9-4753-8a0d-683d302988e7",
   "metadata": {},
   "source": [
    "## DQN Preliminaries"
   ]
  },
  {
   "cell_type": "markdown",
   "id": "93e88556-4802-4ea4-b82f-5ff2a218068c",
   "metadata": {},
   "source": [
    "![qlearning](img/dqn.png)"
   ]
  },
  {
   "cell_type": "markdown",
   "id": "eebbbdf9-5d12-44db-9def-1b7340700cb3",
   "metadata": {},
   "source": [
    "### Replay buffer"
   ]
  },
  {
   "cell_type": "code",
   "execution_count": 7,
   "id": "fa08c901-f4d8-4414-9cd0-2fbc58badef3",
   "metadata": {},
   "outputs": [],
   "source": [
    "Transition = namedtuple(\n",
    "    'Transition',\n",
    "    ('state', 'action', 'reward',  'done', 'next_state')\n",
    ")\n",
    "\n",
    "class ReplayMemory:\n",
    "\n",
    "    def __init__(self, capacity):\n",
    "        self.memory = deque([], maxlen=capacity)\n",
    "\n",
    "    def push(self, transition):\n",
    "        self.memory.append(transition)\n",
    "\n",
    "    def sample(self, batch_size):\n",
    "        transitions = random.sample(self.memory, batch_size)\n",
    "        return Transition(*zip(*transitions))\n",
    "\n",
    "    def __len__(self):\n",
    "        return len(self.memory)"
   ]
  },
  {
   "cell_type": "code",
   "execution_count": 8,
   "id": "9db5957c-07b4-43c6-878c-abb091e37d4c",
   "metadata": {},
   "outputs": [],
   "source": [
    "buffer = ReplayMemory(capacity=1000)"
   ]
  },
  {
   "cell_type": "code",
   "execution_count": 9,
   "id": "ed896963-d8ac-4d55-b895-d4b11802b67a",
   "metadata": {},
   "outputs": [],
   "source": [
    "state, info = env.reset()\n",
    "action = env.action_space.sample()\n",
    "new_state, reward, done, terminated, info = env.step(action)\n",
    "done = done or terminated"
   ]
  },
  {
   "cell_type": "code",
   "execution_count": 13,
   "id": "1dd9d9c5-f9ac-440a-952d-092dc9b71488",
   "metadata": {},
   "outputs": [],
   "source": [
    "transition = Transition(state, action, reward, done, new_state)\n",
    "buffer.push(transition)"
   ]
  },
  {
   "cell_type": "code",
   "execution_count": 14,
   "id": "7114681e-fd15-4c17-982d-4f5d7c513cb2",
   "metadata": {},
   "outputs": [
    {
     "data": {
      "text/plain": [
       "Transition(state=(array([ 0.99945295, -0.03307194,  0.99994385,  0.010598  , -0.07205378,\n",
       "       -0.0526349 ], dtype=float32), array([ 0.99945295, -0.03307194,  0.99994385,  0.010598  , -0.07205378,\n",
       "       -0.0526349 ], dtype=float32), array([ 0.99945295, -0.03307194,  0.99994385,  0.010598  , -0.07205378,\n",
       "       -0.0526349 ], dtype=float32)), action=(2, 2, 2), reward=(-1.0, -1.0, -1.0), done=(False, False, False), next_state=(array([ 0.99843174, -0.05598251,  0.999546  ,  0.03013046, -0.15188386,\n",
       "        0.24079542], dtype=float32), array([ 0.99843174, -0.05598251,  0.999546  ,  0.03013046, -0.15188386,\n",
       "        0.24079542], dtype=float32), array([ 0.99843174, -0.05598251,  0.999546  ,  0.03013046, -0.15188386,\n",
       "        0.24079542], dtype=float32)))"
      ]
     },
     "execution_count": 14,
     "metadata": {},
     "output_type": "execute_result"
    }
   ],
   "source": [
    "batch = buffer.sample(3)\n",
    "batch"
   ]
  },
  {
   "cell_type": "markdown",
   "id": "6a5dcc4a-82c6-4ce6-935d-3024a34bd785",
   "metadata": {},
   "source": [
    "### Q-Value Aproximation using a Neural Network"
   ]
  },
  {
   "cell_type": "code",
   "execution_count": 22,
   "id": "9cebb6c6-0833-4410-a02b-7760ee4f8506",
   "metadata": {},
   "outputs": [],
   "source": [
    "import torch\n",
    "import torch.nn as nn\n",
    "import torch.nn.functional as F\n",
    "\n",
    "class QNetwork(nn.Module):\n",
    "\n",
    "    def __init__(self, obs_size, num_actions):\n",
    "        super(QNetwork, self).__init__()\n",
    "        self.layer1 = nn.Linear(obs_size, 64)\n",
    "        self.layer2 = nn.Linear(64, 32)\n",
    "        self.q = nn.Linear(32, num_actions)\n",
    "\n",
    "    def forward(self, x):\n",
    "        x = F.relu(self.layer1(x))\n",
    "        x = F.relu(self.layer2(x))\n",
    "        q = self.q(x)\n",
    "        return q"
   ]
  },
  {
   "cell_type": "code",
   "execution_count": 23,
   "id": "d63a49e5-2550-4a10-9e09-a504624bdd24",
   "metadata": {},
   "outputs": [
    {
     "data": {
      "text/plain": [
       "QNetwork(\n",
       "  (layer1): Linear(in_features=6, out_features=64, bias=True)\n",
       "  (layer2): Linear(in_features=64, out_features=32, bias=True)\n",
       "  (q): Linear(in_features=32, out_features=3, bias=True)\n",
       ")"
      ]
     },
     "execution_count": 23,
     "metadata": {},
     "output_type": "execute_result"
    }
   ],
   "source": [
    "obs_size = env.observation_space.shape[0] # 6\n",
    "num_actions = env.action_space.n # 3\n",
    "qnetwork = QNetwork(obs_size, num_actions)\n",
    "qnetwork"
   ]
  },
  {
   "cell_type": "code",
   "execution_count": 24,
   "id": "650c6a01-1483-46d1-8708-46366c78b411",
   "metadata": {},
   "outputs": [
    {
     "data": {
      "text/plain": [
       "tensor([ 0.1331, -0.1343,  0.3073], grad_fn=<ViewBackward0>)"
      ]
     },
     "execution_count": 24,
     "metadata": {},
     "output_type": "execute_result"
    }
   ],
   "source": [
    "state, info = env.reset()\n",
    "\n",
    "# transform into tensor\n",
    "state = torch.tensor(state)\n",
    "qvals = qnetwork(state)\n",
    "qvals "
   ]
  },
  {
   "cell_type": "code",
   "execution_count": 25,
   "id": "f3025b3d-27c1-4583-80c9-bbb613f61f14",
   "metadata": {},
   "outputs": [
    {
     "data": {
      "text/plain": [
       "tensor([[ 0.9995, -0.0331,  0.9999,  0.0106, -0.0721, -0.0526],\n",
       "        [ 0.9995, -0.0331,  0.9999,  0.0106, -0.0721, -0.0526],\n",
       "        [ 0.9995, -0.0331,  0.9999,  0.0106, -0.0721, -0.0526]])"
      ]
     },
     "execution_count": 25,
     "metadata": {},
     "output_type": "execute_result"
    }
   ],
   "source": [
    "batch_state = torch.tensor(np.vstack(batch.state))\n",
    "batch_state"
   ]
  },
  {
   "cell_type": "code",
   "execution_count": 26,
   "id": "442077d7-d45e-4bd0-bb60-54f54132f0fc",
   "metadata": {},
   "outputs": [
    {
     "data": {
      "text/plain": [
       "tensor([[ 0.1344, -0.1317,  0.3077],\n",
       "        [ 0.1344, -0.1317,  0.3077],\n",
       "        [ 0.1344, -0.1317,  0.3077]], grad_fn=<AddmmBackward0>)"
      ]
     },
     "execution_count": 26,
     "metadata": {},
     "output_type": "execute_result"
    }
   ],
   "source": [
    "qvals = qnetwork(batch_state)\n",
    "qvals"
   ]
  },
  {
   "cell_type": "code",
   "execution_count": 27,
   "id": "6af07b8c-a3f9-4532-84ce-f27aeed7014b",
   "metadata": {},
   "outputs": [
    {
     "data": {
      "text/plain": [
       "torch.Size([3, 3])"
      ]
     },
     "execution_count": 27,
     "metadata": {},
     "output_type": "execute_result"
    }
   ],
   "source": [
    "qvals.shape"
   ]
  },
  {
   "cell_type": "code",
   "execution_count": 28,
   "id": "7e8f4843-8ab2-4942-803d-96157e757d9a",
   "metadata": {},
   "outputs": [
    {
     "data": {
      "text/plain": [
       "torch.return_types.max(\n",
       "values=tensor([[0.3077],\n",
       "        [0.3077],\n",
       "        [0.3077]], grad_fn=<MaxBackward0>),\n",
       "indices=tensor([[2],\n",
       "        [2],\n",
       "        [2]]))"
      ]
     },
     "execution_count": 28,
     "metadata": {},
     "output_type": "execute_result"
    }
   ],
   "source": [
    "qvals.max(axis=1, keepdim=True)"
   ]
  },
  {
   "cell_type": "code",
   "execution_count": 29,
   "id": "75a203ae-601b-4904-afa5-fd08957b5b2b",
   "metadata": {},
   "outputs": [],
   "source": [
    "def get_eps(episode, min_eps=0.01, decay_fraction=0.1, total_episodes=15000):\n",
    "    return max(min_eps, episode*(min_eps-1)/(total_episodes*decay_fraction)+1)"
   ]
  },
  {
   "cell_type": "code",
   "execution_count": 31,
   "id": "872a4eba-7610-4cf6-872e-8083446b16e2",
   "metadata": {},
   "outputs": [],
   "source": [
    "def dqn(\n",
    "    env,\n",
    "    gamma=0.995,\n",
    "    min_eps=0.01,\n",
    "    eps_decay_fraction=0.1,\n",
    "    learning_rate=0.001,\n",
    "    num_episodes=2000,\n",
    "    batch_size=64,\n",
    "    buffer_size=100000,\n",
    "    steps_update_qnetwork=4,\n",
    "    episodes_update_target=10,\n",
    "):\n",
    "\n",
    "    # init network and optimizer\n",
    "    obs_size = env.observation_space.shape[0] # 6\n",
    "    num_actions = env.action_space.n # 3\n",
    "    qnetwork = QNetwork(obs_size, num_actions)\n",
    "    target_qnetwork = QNetwork(obs_size, num_actions)\n",
    "    optimizer = torch.optim.Adam(qnetwork.parameters(), lr=learning_rate)\n",
    "    \n",
    "    # track the episode returns\n",
    "    step = 0\n",
    "    returns = []\n",
    "    for episode in range(1, num_episodes+1):\n",
    "        \n",
    "        episode_return = 0\n",
    "        state, info = env.reset()\n",
    "        done = False\n",
    "    \n",
    "        while not done:\n",
    "\n",
    "            eps = get_eps(episode, min_eps=min_eps, decay_fraction=eps_decay_fraction, total_episodes=num_episodes)\n",
    "            \n",
    "            if np.random.random() > eps:\n",
    "                # no gradient here\n",
    "                with torch.no_grad():\n",
    "                    # Get action from Q network\n",
    "                    q = qnetwork(torch.tensor(state))\n",
    "                    action = np.argmax(q)\n",
    "            else:\n",
    "                # Get random action\n",
    "                action = env.action_space.sample()\n",
    "    \n",
    "            # apply the action to the environment\n",
    "            new_state, reward, done, truncated, _ = env.step(action)\n",
    "            done = done or truncated \n",
    "            episode_return += reward\n",
    "\n",
    "            # add to buffer\n",
    "            if done:\n",
    "                new_state = env.observation_space.sample() # dummy new state if done, otherwise is None\n",
    "            buffer.push(Transition(state, action, reward, done, new_state))\n",
    "\n",
    "            # update qnetwork\n",
    "            if step%steps_update_qnetwork==0 and len(buffer)>=batch_size:\n",
    "\n",
    "                batch = buffer.sample(batch_size)\n",
    "                batch = Transition(*map(lambda x:torch.tensor(np.vstack(x), dtype=torch.float), batch)) # transform into tesor\n",
    "                \n",
    "                q_vals = qnetwork(batch.state)\n",
    "                q_vals = q_vals.gather(1, batch.action.to(int)) # q values of chosen actions\n",
    "\n",
    "                # compute the targets\n",
    "                with torch.no_grad():\n",
    "                    q_target = target_qnetwork(batch.next_state)\n",
    "                    q_target = q_target.max(axis=1, keepdim=True).values # get the max of next state\n",
    "                    targets = batch.reward+(1-batch.done)*gamma*q_target # next q_val only for non-ended episodes\n",
    "\n",
    "                # MSE loss\n",
    "                loss = F.mse_loss(q_vals, targets)\n",
    "\n",
    "                # optimize\n",
    "                optimizer.zero_grad()\n",
    "                loss.backward()\n",
    "                nn.utils.clip_grad_norm_(qnetwork.parameters(), max_norm=1.0)\n",
    "                optimizer.step()\n",
    "\n",
    "            state = new_state\n",
    "            step += 1\n",
    "\n",
    "        returns.append(episode_return)\n",
    "        \n",
    "        # update target network\n",
    "        if episode%episodes_update_target==0:\n",
    "            target_qnetwork.load_state_dict(qnetwork.state_dict())\n",
    "    \n",
    "        # log last 1000 episodes\n",
    "        if episode % 100 == 0:\n",
    "            print(f'Episode {episode}, returns: {np.mean(returns[-100:])}')\n",
    "\n",
    "    return qnetwork, returns"
   ]
  },
  {
   "cell_type": "code",
   "execution_count": 32,
   "id": "764c591f-d6a6-43ad-ad95-b895f1f7f8b3",
   "metadata": {},
   "outputs": [
    {
     "name": "stdout",
     "output_type": "stream",
     "text": [
      "Episode 100, returns: -482.99\n",
      "Episode 200, returns: -280.09\n",
      "Episode 300, returns: -291.24\n",
      "Episode 400, returns: -162.05\n",
      "Episode 500, returns: -185.55\n",
      "Episode 600, returns: -99.04\n",
      "Episode 700, returns: -117.35\n",
      "Episode 800, returns: -138.94\n",
      "Episode 900, returns: -107.32\n",
      "Episode 1000, returns: -88.63\n",
      "Episode 1100, returns: -88.8\n",
      "Episode 1200, returns: -88.43\n",
      "Episode 1300, returns: -84.0\n",
      "Episode 1400, returns: -85.73\n",
      "Episode 1500, returns: -93.51\n",
      "Episode 1600, returns: -89.79\n",
      "Episode 1700, returns: -100.4\n",
      "Episode 1800, returns: -96.99\n",
      "Episode 1900, returns: -89.09\n",
      "Episode 2000, returns: -89.58\n",
      "CPU times: user 9min 36s, sys: 1min 54s, total: 11min 30s\n",
      "Wall time: 1min 32s\n"
     ]
    }
   ],
   "source": [
    "%%time\n",
    "qnetwork, returns = dqn(env)"
   ]
  },
  {
   "cell_type": "code",
   "execution_count": 33,
   "id": "686ae7ea-582f-43ad-8562-aa2736b4ff66",
   "metadata": {},
   "outputs": [
    {
     "data": {
      "text/plain": [
       "Text(0, 0.5, 'Returns')"
      ]
     },
     "execution_count": 33,
     "metadata": {},
     "output_type": "execute_result"
    },
    {
     "data": {
      "image/png": "[encoded data removed]",
      "text/plain": [
       "<Figure size 640x480 with 1 Axes>"
      ]
     },
     "metadata": {},
     "output_type": "display_data"
    }
   ],
   "source": [
    "def running_mean(x, N=50):\n",
    "    cumsum = np.cumsum(np.insert(x, 0, 0)) \n",
    "    return (cumsum[N:] - cumsum[:-N]) / float(N)\n",
    "\n",
    "plt.plot(running_mean(returns))\n",
    "plt.xlabel('Episode')\n",
    "plt.ylabel('Returns')"
   ]
  },
  {
   "cell_type": "code",
   "execution_count": 35,
   "id": "618fcfff-585f-4d83-82fc-aa7e9f6efd9f",
   "metadata": {},
   "outputs": [
    {
     "data": {
      "image/png": "[encoded data removed]",
      "text/plain": [
       "<Figure size 640x480 with 1 Axes>"
      ]
     },
     "metadata": {},
     "output_type": "display_data"
    },
    {
     "name": "stdout",
     "output_type": "stream",
     "text": [
      "-108.0\n"
     ]
    }
   ],
   "source": [
    "state, info = env.reset()\n",
    "render_frame(env)\n",
    "done = False\n",
    "\n",
    "r = 0\n",
    "while not done:\n",
    "\n",
    "    with torch.no_grad():\n",
    "        # Get action from Q network\n",
    "        q = qnetwork(torch.tensor(state))\n",
    "        action = np.argmax(q)\n",
    "\n",
    "    state, reward, done, truncated, _ = env.step(action)\n",
    "    done = done or truncated\n",
    "    render_frame(env)\n",
    "    r += reward\n",
    "\n",
    "print(r)"
   ]
  },
  {
   "cell_type": "code",
   "execution_count": null,
   "id": "bb2822b4-0008-4ef8-a674-c9b01afafc1a",
   "metadata": {},
   "outputs": [],
   "source": []
  }
 ],
 "metadata": {
  "kernelspec": {
   "display_name": "Python 3 (ipykernel)",
   "language": "python",
   "name": "python3"
  },
  "language_info": {
   "codemirror_mode": {
    "name": "ipython",
    "version": 3
   },
   "file_extension": ".py",
   "mimetype": "text/x-python",
   "name": "python",
   "nbconvert_exporter": "python",
   "pygments_lexer": "ipython3",
   "version": "3.11.5"
  }
 },
 "nbformat": 4,
 "nbformat_minor": 5
}
