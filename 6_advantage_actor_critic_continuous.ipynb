{
 "cells": [
  {
   "cell_type": "markdown",
   "id": "121c3550-fb49-40c0-be20-20f46cd2a181",
   "metadata": {},
   "source": [
    "# Continuous Action Control with Advantage Actor Critic"
   ]
  },
  {
   "cell_type": "markdown",
   "id": "b23b9a4a-64f1-4ec3-af3b-c5575082e791",
   "metadata": {},
   "source": [
    "For a simple introduction to (Advantage) Actor Critic, I suggest you to look at this blog: https://huggingface.co/blog/deep-rl-a2c"
   ]
  },
  {
   "cell_type": "code",
   "execution_count": 4,
   "id": "0680e126-2f66-4901-aabb-02e19e46616c",
   "metadata": {},
   "outputs": [],
   "source": [
    "import os\n",
    "import gym\n",
    "import numpy as np\n",
    "import matplotlib.pyplot as plt\n",
    "from IPython.display import clear_output"
   ]
  },
  {
   "cell_type": "code",
   "execution_count": 5,
   "id": "b0690810-5a2e-486f-be11-4d72a3d724d2",
   "metadata": {},
   "outputs": [],
   "source": [
    "# Function to render in notebook\n",
    "def render_frame(env):\n",
    "    frame = env.render()  # Returns the rendered frame as an RGB array\n",
    "    plt.imshow(frame)\n",
    "    plt.axis('off')  # Hide axis for better visualization\n",
    "    clear_output(wait=True)  # Clear the previous frame\n",
    "    plt.show()"
   ]
  },
  {
   "cell_type": "code",
   "execution_count": 6,
   "id": "17f76772-1008-4a5c-ac39-09830270ca6c",
   "metadata": {},
   "outputs": [
    {
     "data": {
      "image/png": "[encoded data removed]",
      "text/plain": [
       "<Figure size 640x480 with 1 Axes>"
      ]
     },
     "metadata": {},
     "output_type": "display_data"
    }
   ],
   "source": [
    "# Initialize the environment\n",
    "env = gym.make(\"Pendulum-v1\", render_mode=\"rgb_array\")\n",
    "state, info = env.reset()\n",
    "\n",
    "render_frame(env)"
   ]
  },
  {
   "cell_type": "markdown",
   "id": "f42a52af-e159-46af-a1c9-48970ea258bc",
   "metadata": {},
   "source": [
    "### Goal \n",
    "- Apply torque on the free end to swing it into an upright position, with its center of gravity right above the fixed point.\n",
    "\n",
    "### Observation Space\n",
    "- The observation is a ndarray with shape (3,) of continuous variables representing the x-y coordinates of the pendulum’s free end and its angular velocity.\n",
    "    - x = cos(angle) [-1, 1]\n",
    "    - y = sin(angle) [-1, 1]\n",
    "    - z = theta, angular velocity [-8, 8]\n",
    "\n",
    "### Action\n",
    "- The torque applied to the end of the pendulum [-1, 1]\n",
    "\n",
    "### Reward\n",
    "- r = -(theta2 + 0.1 * theta_dt2 + 0.001 * torque2)\n",
    "    - max is 0 when the pendulum is upright and no torque is applied\n",
    "\n",
    "### End of episode\n",
    "- After 200 timesteps"
   ]
  },
  {
   "cell_type": "markdown",
   "id": "b6b5ce47-8fea-4cc8-bddc-ffac69c02ebf",
   "metadata": {},
   "source": [
    "### Random Policy"
   ]
  },
  {
   "cell_type": "code",
   "execution_count": 7,
   "id": "38218c58-a7f9-4d8f-bfe8-971279b75c24",
   "metadata": {},
   "outputs": [
    {
     "data": {
      "image/png": "[encoded data removed]",
      "text/plain": [
       "<Figure size 640x480 with 1 Axes>"
      ]
     },
     "metadata": {},
     "output_type": "display_data"
    }
   ],
   "source": [
    "# visualize random policy\n",
    "\n",
    "env = gym.make(\"Pendulum-v1\", render_mode=\"rgb_array\")\n",
    "state, info = env.reset()\n",
    "\n",
    "for _ in range(100):\n",
    "    state, reward, done, _, info = env.step(env.action_space.sample())\n",
    "    render_frame(env)\n",
    "\n",
    "env.close()"
   ]
  },
  {
   "cell_type": "code",
   "execution_count": 8,
   "id": "1e52184a-16c2-4f7e-8843-834f12f220cd",
   "metadata": {},
   "outputs": [
    {
     "data": {
      "text/plain": [
       "(Box([-1. -1. -8.], [1. 1. 8.], (3,), float32), Box(-2.0, 2.0, (1,), float32))"
      ]
     },
     "execution_count": 8,
     "metadata": {},
     "output_type": "execute_result"
    }
   ],
   "source": [
    "env.observation_space, env.action_space"
   ]
  },
  {
   "cell_type": "markdown",
   "id": "a7c8e303-dc63-4e26-a10f-a42dccf27661",
   "metadata": {},
   "source": [
    "## Advantage based Actor Critic\n",
    "\n",
    "The basic idea is to stabilize policy learning by computing the gradient in respect to an estimation of the long term returns given by a Critic function, instead of using the empirical (i.e. Monte Carlo) returns."
   ]
  },
  {
   "cell_type": "markdown",
   "id": "8fad695e-6d4a-4f91-bbae-c6b173e5fd3f",
   "metadata": {},
   "source": [
    "![policy_network](img/actor_critic.ppm)"
   ]
  },
  {
   "cell_type": "markdown",
   "id": "eddfd483-d3df-4546-98e8-4cf25447c539",
   "metadata": {},
   "source": [
    "### Actor Loss\n",
    "\n",
    "We can stabilize learning further by using the Advantage function as Critic instead of the Action value function.\n",
    "\n",
    "The idea is that the Advantage function calculates how better taking that action at a state is compared to the average value of the state. It’s subtracting the mean value of the state from the state action pair:\n",
    "\n",
    "$A(s,a)=Q(s,a)-V(s)$\n",
    "\n",
    "In other words, this function calculates the extra reward we get if we take this action at that state compared to the mean reward we get at that state.\n",
    "\n",
    "The extra reward is what's beyond the expected value of that state.\n",
    "\n",
    "- If $A(s,a)$ > 0: our gradient is pushed in that direction.\n",
    "- If $A(s,a)$ < 0 (our action does worse than the average value of that state), our gradient is pushed in the opposite direction.\n",
    "\n",
    "\n",
    "The problem with implementing this advantage function is that it requires two value functions $Q(s,a)$ and $V(s)$. Fortunately, we can use the TD error as a good estimator of the advantage function.\n",
    "\n",
    "$A(s,a)=Q(s,a)-V(s)$\n",
    "\n",
    "$Q(s,a)=r+\\gamma*V(s')$\n",
    "\n",
    "$A(s,a)=(r+\\gamma*V(s'))-V(s)$\n",
    "\n",
    "The actor loss therefore becomes:\n",
    "\n",
    "$\\mathcal{-log(\\pi(a_t|s_t)A(s,a)=-log(\\pi(a_t|s_t)A(s,a)(r+\\gamma*V(s'))-V(s))$\n",
    "\n",
    "\n",
    "![actor_loss](img/actor_loss.png)"
   ]
  },
  {
   "cell_type": "markdown",
   "id": "f720f251-2b93-455d-ad9a-59ea9a575bfe",
   "metadata": {},
   "source": [
    "### Critic Loss\n",
    "\n",
    "The critic is trained using TD targets as we were doing for Q-Learing and DQN. However, here we train a Value fucntion in order to compute the advantages instead of the Q-Values themselves. \n",
    "\n",
    "![critic_loss](img/critic_loss.png)"
   ]
  },
  {
   "cell_type": "code",
   "execution_count": 118,
   "id": "33aedbf4-556b-4d96-83fc-ace522cdc64d",
   "metadata": {},
   "outputs": [],
   "source": [
    "import torch\n",
    "import torch.nn as nn\n",
    "import torch.nn.functional as F\n",
    "from torch.distributions.normal import Normal\n",
    "\n",
    "class ActorNetwork(nn.Module):\n",
    "    def __init__(self, obs_size, num_actions):\n",
    "        super(ActorNetwork, self).__init__()\n",
    "        \n",
    "        self.layer1 = nn.Linear(obs_size, 64)\n",
    "        self.layer2 = nn.Linear(64, 64)\n",
    "        self.mu = nn.Linear(64, num_actions)\n",
    "        self.std = nn.Linear(64, num_actions)\n",
    "\n",
    "    def forward(self, x):\n",
    "        x = torch.relu(self.layer1(x))\n",
    "        x = torch.relu(self.layer2(x))\n",
    "        \n",
    "        mu = torch.tanh(self.mu(x)) # tanh projects mu into -1, 1\n",
    "        std = F.softplus(self.std(x)) + 1e-4 # small constant for numerical stability\n",
    "        \n",
    "        pi = Normal(mu, std)\n",
    "        action = pi.sample()\n",
    "\n",
    "        action = torch.clamp(action, -1, 1) # make sure is between -1 and 1 after sampling\n",
    "        \n",
    "        return action, pi\n",
    "\n",
    "\n",
    "class CriticNetwork(nn.Module):\n",
    "    def __init__(self, obs_size):\n",
    "        super(CriticNetwork, self).__init__()\n",
    "        \n",
    "        self.layer1 = nn.Linear(obs_size, 64)\n",
    "        self.layer2 = nn.Linear(64, 64)\n",
    "        self.v = nn.Linear(64, 1)\n",
    "\n",
    "    def forward(self, x):\n",
    "        x = torch.relu(self.layer1(x))\n",
    "        x = torch.relu(self.layer2(x))\n",
    "        v = self.v(x)\n",
    "        \n",
    "        return v"
   ]
  },
  {
   "cell_type": "code",
   "execution_count": 119,
   "id": "ee3c9218-c1b6-4b8f-8c61-9798914df6cb",
   "metadata": {},
   "outputs": [
    {
     "data": {
      "text/plain": [
       "(tensor([-0.2356]),\n",
       " Normal(loc: tensor([0.0700], grad_fn=<TanhBackward0>), scale: tensor([0.6779], grad_fn=<AddBackward0>)))"
      ]
     },
     "execution_count": 119,
     "metadata": {},
     "output_type": "execute_result"
    }
   ],
   "source": [
    "actor = ActorNetwork(obs_size=3, num_actions=1)\n",
    "action, pi = actor(torch.tensor(state))\n",
    "action, pi"
   ]
  },
  {
   "cell_type": "code",
   "execution_count": 120,
   "id": "8de45acd-6daa-4cea-9572-b9148f35dd52",
   "metadata": {},
   "outputs": [
    {
     "data": {
      "text/plain": [
       "tensor([0.0385], grad_fn=<ViewBackward0>)"
      ]
     },
     "execution_count": 120,
     "metadata": {},
     "output_type": "execute_result"
    }
   ],
   "source": [
    "critic = CriticNetwork(obs_size=3)\n",
    "v = critic(torch.tensor(state))\n",
    "v"
   ]
  },
  {
   "cell_type": "code",
   "execution_count": 153,
   "id": "b2a03caf-d306-4b9f-abd0-95f8cfa9d116",
   "metadata": {},
   "outputs": [],
   "source": [
    "def aac(env, gamma=0.9, lr_actor=0.00005, lr_critic=0.0005, num_episodes=1000, training_episodes=4):\n",
    "    \n",
    "    obs_size = env.observation_space.shape[0]\n",
    "    actor = ActorNetwork(obs_size=obs_size, num_actions=1)\n",
    "    actor_optimizer = torch.optim.Adam(actor.parameters(), lr=lr_actor)\n",
    "    critic_optimizer = torch.optim.Adam(critic.parameters(), lr=lr_critic)\n",
    "\n",
    "    episode_returns = []\n",
    "    for episode in range(1, num_episodes + 1):\n",
    "        \n",
    "        states  = [] # (n_episodes*timesteps)\n",
    "        actions = [] # (n_episodes*timesteps)\n",
    "        rewards = [] # (n_episodes*timesteps)\n",
    "        new_states = [] # (n_episodes*timesteps)\n",
    "        dones = [] # (n_episodes*timesteps)\n",
    "\n",
    "        for n in range(training_episodes):\n",
    "            \n",
    "            # Collect episode\n",
    "            state, info = env.reset()\n",
    "            state_tensor = torch.tensor(state)\n",
    "            done = False\n",
    "            ep_rewards = []\n",
    "            cum_reward = 0\n",
    "            \n",
    "            while not done:\n",
    "\n",
    "                with torch.no_grad():\n",
    "\n",
    "                    # get stochastic action (between -1 and 1)\n",
    "                    action, pi = actor(state_tensor)\n",
    "\n",
    "                    # project action into original action space (i.e., -2, 2)\n",
    "                    env_action = action.numpy()*env.action_space.high.max() \n",
    "                    env_action = np.clip(env_action, env.action_space.low.min(), env.action_space.high.max()) # ensure is between -2 and 2\n",
    "\n",
    "                    # step env\n",
    "                    new_state, reward, done, truncated, _ = env.step(env_action)\n",
    "                    done = done or truncated\n",
    "                    if done: # avoid None tensors\n",
    "                        new_state = state\n",
    "                    new_state_tensor = torch.tensor(new_state)\n",
    "\n",
    "                    # save transition\n",
    "                    states.append(state_tensor)\n",
    "                    actions.append(action)\n",
    "                    rewards.append(float(reward))\n",
    "                    new_states.append(new_state_tensor)\n",
    "                    dones.append(int(done))\n",
    "\n",
    "                    # update variables\n",
    "                    state_tensor = new_state_tensor\n",
    "                    cum_reward += reward\n",
    "            \n",
    "            episode_returns.append(cum_reward)\n",
    "\n",
    "\n",
    "        # get tensors\n",
    "        states = torch.stack(states)\n",
    "        actions = torch.stack(actions)\n",
    "        rewards = torch.tensor(rewards)\n",
    "        new_states = torch.stack(new_states)\n",
    "        dones = torch.tensor(dones)\n",
    "\n",
    "        # get advantages\n",
    "        v = critic(states).squeeze()\n",
    "        next_v = critic(new_states).squeeze()\n",
    "        td_target = rewards + (1-dones)*gamma*next_v.detach() # detach to make sure don't pass the gradient over the target\n",
    "        advantages = td_target - v\n",
    "        advantages = advantages.detach() # the advantages are used in the actor loss, so detach make sure you don't pass the actor loss gradient to the critic\n",
    "        \n",
    "        # optimize actor\n",
    "        _, pi = actor(states) # get pi of the states\n",
    "        log_probs = pi.log_prob(actions).squeeze() # get log(pi(a|s))\n",
    "        actor_loss = torch.mean(-log_probs * advantages.detach()) # -log(pi(a|s))*A(s,a)\n",
    "        \n",
    "        actor_optimizer.zero_grad()\n",
    "        actor_loss.backward()\n",
    "        nn.utils.clip_grad_norm_(actor.parameters(), max_norm=0.5)\n",
    "        actor_optimizer.step()\n",
    "\n",
    "        # optimize critic\n",
    "        critic_loss = F.mse_loss(td_target, v) # MSE of with TD target\n",
    "        \n",
    "        critic_optimizer.zero_grad()\n",
    "        critic_loss.backward()\n",
    "        nn.utils.clip_grad_norm_(critic.parameters(), max_norm=1.0)\n",
    "        critic_optimizer.step()\n",
    "\n",
    "        # Log\n",
    "        if episode % 100 == 0:\n",
    "            print(f'Episode {episode}, actor loss: {actor_loss}, critic loss: {critic_loss} returns: {np.mean(episode_returns[-100:])}')\n",
    "\n",
    "    return actor, critic, episode_returns"
   ]
  },
  {
   "cell_type": "markdown",
   "id": "98b7874d-e3d9-489d-a06f-7a36a43eac98",
   "metadata": {},
   "source": [
    "**Notice how training is more stable compared to Reinforce, but can still show instabilities. You might notice that the training fails some times. This depends heavily on the random initialization and the hyperparameters you're using.**"
   ]
  },
  {
   "cell_type": "code",
   "execution_count": 154,
   "id": "baf99a35-32a3-4f4d-afdd-e9642644752e",
   "metadata": {},
   "outputs": [
    {
     "name": "stdout",
     "output_type": "stream",
     "text": [
      "Episode 100, actor loss: -0.18873491883277893, critic loss: 13.820992469787598 returns: -1183.8882960428145\n",
      "Episode 200, actor loss: -0.10430768132209778, critic loss: 17.138925552368164 returns: -1091.7890087842402\n",
      "Episode 300, actor loss: -0.1484411060810089, critic loss: 13.90188980102539 returns: -1129.2378496639117\n",
      "Episode 400, actor loss: 0.10002019256353378, critic loss: 18.513486862182617 returns: -1085.3693202504605\n",
      "Episode 500, actor loss: -0.11015116423368454, critic loss: 13.21580982208252 returns: -1045.9155170341132\n",
      "Episode 600, actor loss: -0.09647203981876373, critic loss: 8.480769157409668 returns: -1003.5087559583907\n",
      "Episode 700, actor loss: -0.09925222396850586, critic loss: 6.841555118560791 returns: -988.9092171754698\n",
      "Episode 800, actor loss: -0.21686133742332458, critic loss: 7.568208694458008 returns: -925.5554325385467\n",
      "Episode 900, actor loss: -0.11402691900730133, critic loss: 9.700958251953125 returns: -867.3832981435489\n",
      "Episode 1000, actor loss: -0.08008579164743423, critic loss: 5.062089443206787 returns: -813.0764804210833\n",
      "Episode 1100, actor loss: -0.031850479543209076, critic loss: 11.924673080444336 returns: -795.5805604021236\n",
      "Episode 1200, actor loss: -0.05447578430175781, critic loss: 12.428644180297852 returns: -716.2043664951087\n",
      "Episode 1300, actor loss: -0.05985299497842789, critic loss: 1.1878100633621216 returns: -670.0627734802137\n",
      "Episode 1400, actor loss: 0.052490685135126114, critic loss: 1.9523506164550781 returns: -616.7080388093061\n",
      "Episode 1500, actor loss: -0.02971956878900528, critic loss: 0.7175679802894592 returns: -593.1249278524874\n",
      "Episode 1600, actor loss: -0.024998722597956657, critic loss: 3.3042469024658203 returns: -504.6508288903695\n",
      "Episode 1700, actor loss: -0.12873119115829468, critic loss: 5.031135082244873 returns: -496.9481291833114\n",
      "Episode 1800, actor loss: 0.17223957180976868, critic loss: 0.6643383502960205 returns: -458.7368711094543\n",
      "Episode 1900, actor loss: 0.013947839848697186, critic loss: 0.2551271617412567 returns: -382.3529785160588\n",
      "Episode 2000, actor loss: -0.024968739598989487, critic loss: 0.1758115142583847 returns: -533.7840170317164\n",
      "Episode 2100, actor loss: -0.04141318053007126, critic loss: 0.22311750054359436 returns: -341.26158719778124\n",
      "Episode 2200, actor loss: -0.04362444207072258, critic loss: 0.14581605792045593 returns: -333.8142045369426\n",
      "Episode 2300, actor loss: -0.006627899128943682, critic loss: 0.22397537529468536 returns: -298.84515617812826\n",
      "Episode 2400, actor loss: 0.08705826103687286, critic loss: 0.3556063771247864 returns: -331.969507018916\n",
      "Episode 2500, actor loss: -0.02028646133840084, critic loss: 0.09420926123857498 returns: -291.50085935140737\n",
      "Episode 2600, actor loss: -0.06237953156232834, critic loss: 0.10334030538797379 returns: -273.0331253595409\n",
      "Episode 2700, actor loss: -0.04680033028125763, critic loss: 0.10431283712387085 returns: -306.7044423074204\n",
      "Episode 2800, actor loss: -0.022009383887052536, critic loss: 0.14445582032203674 returns: -267.0380457768935\n",
      "Episode 2900, actor loss: 0.004536364693194628, critic loss: 0.07187321782112122 returns: -248.16879044045652\n",
      "Episode 3000, actor loss: -0.07992935925722122, critic loss: 4.899633884429932 returns: -290.86320427219175\n",
      "Episode 3100, actor loss: -0.012685813941061497, critic loss: 3.816025733947754 returns: -314.3697466742514\n",
      "Episode 3200, actor loss: 0.004011750686913729, critic loss: 0.08997669070959091 returns: -276.86449833673964\n",
      "Episode 3300, actor loss: 0.01795646734535694, critic loss: 0.08738132566213608 returns: -248.67877220806622\n",
      "Episode 3400, actor loss: 0.0012884513707831502, critic loss: 0.03719117492437363 returns: -216.33475297815622\n",
      "Episode 3500, actor loss: -0.0028592220041900873, critic loss: 0.09838258475065231 returns: -279.80998107903093\n",
      "Episode 3600, actor loss: 0.034912291914224625, critic loss: 0.12275233119726181 returns: -323.0113628354592\n",
      "Episode 3700, actor loss: -0.01080930046737194, critic loss: 5.085933685302734 returns: -371.7870413836361\n",
      "Episode 3800, actor loss: -0.0677558034658432, critic loss: 0.11054044216871262 returns: -400.24199655022477\n",
      "Episode 3900, actor loss: -0.042193453758955, critic loss: 0.12926466763019562 returns: -271.17483589759485\n",
      "Episode 4000, actor loss: -0.07652217894792557, critic loss: 0.12222829461097717 returns: -290.5725789041427\n",
      "CPU times: user 30min 58s, sys: 3min 59s, total: 34min 57s\n",
      "Wall time: 4min 28s\n"
     ]
    }
   ],
   "source": [
    "%%time\n",
    "actor, critic, returns = aac(env, num_episodes=4000, training_episodes=3)"
   ]
  },
  {
   "cell_type": "code",
   "execution_count": 156,
   "id": "e11310e9-42b4-491d-aa52-292afb2238b7",
   "metadata": {},
   "outputs": [
    {
     "data": {
      "text/plain": [
       "Text(0, 0.5, 'Returns')"
      ]
     },
     "execution_count": 156,
     "metadata": {},
     "output_type": "execute_result"
    },
    {
     "data": {
      "image/png": "[encoded data removed]",
      "text/plain": [
       "<Figure size 640x480 with 1 Axes>"
      ]
     },
     "metadata": {},
     "output_type": "display_data"
    }
   ],
   "source": [
    "def running_mean(x, N=50):\n",
    "    cumsum = np.cumsum(np.insert(x, 0, 0)) \n",
    "    return (cumsum[N:] - cumsum[:-N]) / float(N)\n",
    "\n",
    "plt.plot(running_mean(returns))\n",
    "plt.xlabel('Episode')\n",
    "plt.ylabel('Returns')"
   ]
  },
  {
   "cell_type": "code",
   "execution_count": 161,
   "id": "6e4a5a4a-8023-48ec-85f9-dbaaf2d5a07f",
   "metadata": {},
   "outputs": [
    {
     "data": {
      "image/png": "[encoded data removed]",
      "text/plain": [
       "<Figure size 640x480 with 1 Axes>"
      ]
     },
     "metadata": {},
     "output_type": "display_data"
    },
    {
     "name": "stdout",
     "output_type": "stream",
     "text": [
      "-260.7702517149492\n"
     ]
    }
   ],
   "source": [
    "state, info = env.reset()\n",
    "render_frame(env)\n",
    "done = False\n",
    "\n",
    "r = 0\n",
    "while not done:\n",
    "\n",
    "    with torch.no_grad():\n",
    "        action, _ = actor(torch.tensor(state))\n",
    "        action = action*env.action_space.high.max() # project action into original action space (i.e., -2, 2)\n",
    "\n",
    "    state, reward, done, truncated, _ = env.step(action.numpy())\n",
    "    done = done or truncated\n",
    "    render_frame(env)\n",
    "    r += reward\n",
    "\n",
    "print(r)"
   ]
  },
  {
   "cell_type": "code",
   "execution_count": null,
   "id": "a9c99873-d208-4dc1-b7e4-6bd99ecf6791",
   "metadata": {},
   "outputs": [],
   "source": []
  }
 ],
 "metadata": {
  "kernelspec": {
   "display_name": "intro_rl",
   "language": "python",
   "name": "intro_rl"
  },
  "language_info": {
   "codemirror_mode": {
    "name": "ipython",
    "version": 3
   },
   "file_extension": ".py",
   "mimetype": "text/x-python",
   "name": "python",
   "nbconvert_exporter": "python",
   "pygments_lexer": "ipython3",
   "version": "3.11.10"
  }
 },
 "nbformat": 4,
 "nbformat_minor": 5
}
