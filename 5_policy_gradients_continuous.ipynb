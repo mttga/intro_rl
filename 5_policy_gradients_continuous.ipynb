{
 "cells": [
  {
   "cell_type": "markdown",
   "id": "121c3550-fb49-40c0-be20-20f46cd2a181",
   "metadata": {},
   "source": [
    "# Continuous Action Control with Policy Gradients"
   ]
  },
  {
   "cell_type": "code",
   "execution_count": 1,
   "id": "0680e126-2f66-4901-aabb-02e19e46616c",
   "metadata": {},
   "outputs": [],
   "source": [
    "import os\n",
    "import gym\n",
    "import numpy as np\n",
    "import matplotlib.pyplot as plt\n",
    "import seaborn as sns\n",
    "from IPython.display import clear_output"
   ]
  },
  {
   "cell_type": "code",
   "execution_count": 2,
   "id": "b0690810-5a2e-486f-be11-4d72a3d724d2",
   "metadata": {},
   "outputs": [],
   "source": [
    "# Function to render in notebook\n",
    "def render_frame(env):\n",
    "    frame = env.render()  # Returns the rendered frame as an RGB array\n",
    "    plt.imshow(frame)\n",
    "    plt.axis('off')  # Hide axis for better visualization\n",
    "    clear_output(wait=True)  # Clear the previous frame\n",
    "    plt.show()"
   ]
  },
  {
   "cell_type": "code",
   "execution_count": 3,
   "id": "17f76772-1008-4a5c-ac39-09830270ca6c",
   "metadata": {},
   "outputs": [
    {
     "data": {
      "image/png": "[encoded data removed]",
      "text/plain": [
       "<Figure size 640x480 with 1 Axes>"
      ]
     },
     "metadata": {},
     "output_type": "display_data"
    }
   ],
   "source": [
    "# Initialize the environment\n",
    "env = gym.make(\"Pendulum-v1\", render_mode=\"rgb_array\")\n",
    "state, info = env.reset()\n",
    "\n",
    "render_frame(env)"
   ]
  },
  {
   "cell_type": "markdown",
   "id": "f42a52af-e159-46af-a1c9-48970ea258bc",
   "metadata": {},
   "source": [
    "### Goal \n",
    "- Apply torque on the free end to swing it into an upright position, with its center of gravity right above the fixed point.\n",
    "\n",
    "### Observation Space\n",
    "- The observation is a ndarray with shape (3,) of continuous variables representing the x-y coordinates of the pendulum’s free end and its angular velocity.\n",
    "    - x = cos(angle) [-1, 1]\n",
    "    - y = sin(angle) [-1, 1]\n",
    "    - z = theta, angular velocity [-8, 8]\n",
    "\n",
    "### Action\n",
    "- The torque applied to the end of the pendulum [-1, 1]\n",
    "\n",
    "### Reward\n",
    "- r = -(theta2 + 0.1 * theta_dt2 + 0.001 * torque2)\n",
    "    - max is 0 when the pendulum is upright and no torque is applied\n",
    "\n",
    "### End of episode\n",
    "- After 200 timesteps"
   ]
  },
  {
   "cell_type": "markdown",
   "id": "b6b5ce47-8fea-4cc8-bddc-ffac69c02ebf",
   "metadata": {},
   "source": [
    "### Random Policy"
   ]
  },
  {
   "cell_type": "code",
   "execution_count": 4,
   "id": "38218c58-a7f9-4d8f-bfe8-971279b75c24",
   "metadata": {},
   "outputs": [
    {
     "data": {
      "image/png": "[encoded data removed]",
      "text/plain": [
       "<Figure size 640x480 with 1 Axes>"
      ]
     },
     "metadata": {},
     "output_type": "display_data"
    }
   ],
   "source": [
    "# visualize random policy\n",
    "\n",
    "env = gym.make(\"Pendulum-v1\", render_mode=\"rgb_array\")\n",
    "state, info = env.reset()\n",
    "\n",
    "for _ in range(100):\n",
    "    state, reward, done, _, info = env.step(env.action_space.sample())\n",
    "    render_frame(env)\n",
    "\n",
    "env.close()"
   ]
  },
  {
   "cell_type": "code",
   "execution_count": 5,
   "id": "1e52184a-16c2-4f7e-8843-834f12f220cd",
   "metadata": {},
   "outputs": [
    {
     "data": {
      "text/plain": [
       "(Box([-1. -1. -8.], [1. 1. 8.], (3,), float32), Box(-2.0, 2.0, (1,), float32))"
      ]
     },
     "execution_count": 5,
     "metadata": {},
     "output_type": "execute_result"
    }
   ],
   "source": [
    "env.observation_space, env.action_space"
   ]
  },
  {
   "cell_type": "markdown",
   "id": "a7c8e303-dc63-4e26-a10f-a42dccf27661",
   "metadata": {},
   "source": [
    "## Policy Network for Continuous Actions"
   ]
  },
  {
   "cell_type": "markdown",
   "id": "8fad695e-6d4a-4f91-bbae-c6b173e5fd3f",
   "metadata": {},
   "source": [
    "![policy_network](img/policy_network.png)"
   ]
  },
  {
   "cell_type": "code",
   "execution_count": 6,
   "id": "33aedbf4-556b-4d96-83fc-ace522cdc64d",
   "metadata": {},
   "outputs": [],
   "source": [
    "import torch\n",
    "import torch.nn as nn\n",
    "import torch.nn.functional as F\n",
    "from torch.distributions.normal import Normal\n",
    "\n",
    "class PolicyNetwork(nn.Module):\n",
    "    def __init__(self, obs_size, num_actions):\n",
    "        super(PolicyNetwork, self).__init__()\n",
    "        self.layer1 = nn.Linear(obs_size, 32)\n",
    "        self.mu = nn.Linear(32, num_actions)\n",
    "        self.std = nn.Linear(32, num_actions)\n",
    "\n",
    "    def forward(self, x):\n",
    "        x = torch.relu(self.layer1(x))\n",
    "        \n",
    "        mu = torch.tanh(self.mu(x)) # tanh projects mu into -1, 1\n",
    "        std = F.softplus(self.std(x)) + 1e-4 # small constant for numerical stability\n",
    "        \n",
    "        pi = Normal(mu, std)\n",
    "        action = pi.sample()\n",
    "        action = torch.clamp(action, -1., 1.) # ensure after sampling action is in -1, 1\n",
    "        return action, pi\n"
   ]
  },
  {
   "cell_type": "code",
   "execution_count": 7,
   "id": "ee3c9218-c1b6-4b8f-8c61-9798914df6cb",
   "metadata": {},
   "outputs": [
    {
     "data": {
      "text/plain": [
       "(tensor([-0.2497]),\n",
       " Normal(loc: tensor([-0.0990], grad_fn=<TanhBackward0>), scale: tensor([0.5493], grad_fn=<AddBackward0>)))"
      ]
     },
     "execution_count": 7,
     "metadata": {},
     "output_type": "execute_result"
    }
   ],
   "source": [
    "p_network = PolicyNetwork(obs_size=3, num_actions=1)\n",
    "action, pi = p_network(torch.tensor(state))\n",
    "action, pi"
   ]
  },
  {
   "cell_type": "code",
   "execution_count": 8,
   "id": "8de45acd-6daa-4cea-9572-b9148f35dd52",
   "metadata": {},
   "outputs": [
    {
     "name": "stdout",
     "output_type": "stream",
     "text": [
      "tensor([-0.0902]) tensor([-0.3200], grad_fn=<SubBackward0>)\n"
     ]
    }
   ],
   "source": [
    "action = pi.sample()\n",
    "prob = pi.log_prob(action)\n",
    "print(action, prob)"
   ]
  },
  {
   "cell_type": "markdown",
   "id": "1f0f06cf-9e8d-433a-9b43-022cb6d94c03",
   "metadata": {},
   "source": [
    "## Reinforce"
   ]
  },
  {
   "cell_type": "markdown",
   "id": "c321bf2d-fd90-44e5-8f1a-796e4cde630b",
   "metadata": {},
   "source": [
    "![reinforce](img/reinforce.png)"
   ]
  },
  {
   "cell_type": "markdown",
   "id": "f91de463-2191-46ff-aa2a-370e8aad5ac7",
   "metadata": {},
   "source": [
    "Fun Fact: REINFORCE is an acronym for “ ‘RE’ward ‘I’ncrement ‘N’on-negative ‘F’actor times ‘O’ffset ‘R’einforcement times ‘C’haracteristic ‘E’ligibility"
   ]
  },
  {
   "cell_type": "code",
   "execution_count": 9,
   "id": "b2a03caf-d306-4b9f-abd0-95f8cfa9d116",
   "metadata": {},
   "outputs": [],
   "source": [
    "def reinforce(env, gamma=0.99, learning_rate=0.001, num_episodes=1000, training_episodes=4):\n",
    "    \n",
    "    obs_size = env.observation_space.shape[0]\n",
    "    p_network = PolicyNetwork(obs_size=obs_size, num_actions=1)\n",
    "    optimizer = torch.optim.Adam(p_network.parameters(), lr=learning_rate)\n",
    "\n",
    "    episode_returns = []\n",
    "    for episode in range(1, num_episodes + 1):\n",
    "        \n",
    "        rewards = [] # (n_episodes, timesteps)\n",
    "        states  = [] # (n_episodes*timesteps)\n",
    "        actions = [] # (n_episodes*timesteps)\n",
    "\n",
    "        for n in range(training_episodes):\n",
    "            \n",
    "            # Collect episode\n",
    "            state, info = env.reset()\n",
    "            done = False\n",
    "            ep_rewards = []\n",
    "            cum_reward = 0\n",
    "            \n",
    "            while not done:\n",
    "\n",
    "                with torch.no_grad():\n",
    "\n",
    "                    state_tensor = torch.tensor(state)\n",
    "                    action, pi = p_network(state_tensor)\n",
    "                    states.append(state_tensor)\n",
    "                    actions.append(action)\n",
    "    \n",
    "                    action = action*env.action_space.high[0] # project action into original action space (i.e., -2, 2)\n",
    "                    state, reward, done, truncated, _ = env.step(action.numpy())\n",
    "                    done = done or truncated\n",
    "                    cum_reward += reward\n",
    "                    ep_rewards.append(reward)\n",
    "\n",
    "            rewards.append(ep_rewards)\n",
    "            episode_returns.append(cum_reward)\n",
    "\n",
    "        # Compute discounted returns\n",
    "        returns = []\n",
    "        for i in range(training_episodes):\n",
    "            R = 0\n",
    "            ep_returns = []\n",
    "            for r in reversed(rewards[i]):\n",
    "                R = r + gamma * R\n",
    "                ep_returns.insert(0, R)\n",
    "            returns.extend(ep_returns)\n",
    "            \n",
    "        returns = torch.tensor(returns)\n",
    "\n",
    "        # Compute loss and optimize\n",
    "        _, pi = p_network(torch.stack(states))\n",
    "        log_probs = pi.log_prob(torch.stack(actions)).squeeze()\n",
    "        loss = torch.mean(-log_probs * returns)\n",
    "\n",
    "        optimizer.zero_grad()\n",
    "        loss.backward()\n",
    "        optimizer.step()\n",
    "\n",
    "        # Log\n",
    "        if episode % 100 == 0:\n",
    "            print(f'Episode {episode}, loss: {loss} returns: {np.mean(episode_returns[-100:])}')\n",
    "\n",
    "    return p_network, episode_returns"
   ]
  },
  {
   "cell_type": "code",
   "execution_count": 10,
   "id": "baf99a35-32a3-4f4d-afdd-e9642644752e",
   "metadata": {},
   "outputs": [
    {
     "name": "stdout",
     "output_type": "stream",
     "text": [
      "Episode 100, loss: -614.9189237027198 returns: -1257.735809674458\n",
      "Episode 200, loss: -793.872301501516 returns: -1180.2767136861692\n",
      "Episode 300, loss: -1027.388189672054 returns: -1216.093477099968\n",
      "Episode 400, loss: -1142.7788665434396 returns: -1201.8974870866439\n",
      "Episode 500, loss: -1263.6239075502244 returns: -1184.9533817735164\n",
      "Episode 600, loss: -1368.477270972343 returns: -1212.1110200360145\n",
      "Episode 700, loss: -1376.3632435222833 returns: -1193.990718124976\n",
      "Episode 800, loss: -1485.0569945089012 returns: -1227.8542819599786\n",
      "Episode 900, loss: -1445.4119300688749 returns: -1236.8994319462765\n",
      "Episode 1000, loss: -1322.3671109575414 returns: -1148.2401307546063\n",
      "CPU times: user 1min 14s, sys: 186 ms, total: 1min 15s\n",
      "Wall time: 1min 15s\n"
     ]
    }
   ],
   "source": [
    "%%time\n",
    "p_network, returns = reinforce(env, num_episodes=1000, training_episodes=4)"
   ]
  },
  {
   "cell_type": "code",
   "execution_count": 12,
   "id": "e11310e9-42b4-491d-aa52-292afb2238b7",
   "metadata": {},
   "outputs": [
    {
     "data": {
      "text/plain": [
       "Text(0, 0.5, 'Returns')"
      ]
     },
     "execution_count": 12,
     "metadata": {},
     "output_type": "execute_result"
    },
    {
     "data": {
      "image/png": "[encoded data removed]",
      "text/plain": [
       "<Figure size 640x480 with 1 Axes>"
      ]
     },
     "metadata": {},
     "output_type": "display_data"
    }
   ],
   "source": [
    "def running_mean(x, N=50):\n",
    "    cumsum = np.cumsum(np.insert(x, 0, 0)) \n",
    "    return (cumsum[N:] - cumsum[:-N]) / float(N)\n",
    "\n",
    "plt.plot(running_mean(returns))\n",
    "plt.xlabel('Episode')\n",
    "plt.ylabel('Returns')"
   ]
  },
  {
   "cell_type": "code",
   "execution_count": 14,
   "id": "6e4a5a4a-8023-48ec-85f9-dbaaf2d5a07f",
   "metadata": {},
   "outputs": [
    {
     "data": {
      "image/png": "[encoded data removed]",
      "text/plain": [
       "<Figure size 640x480 with 1 Axes>"
      ]
     },
     "metadata": {},
     "output_type": "display_data"
    },
    {
     "name": "stdout",
     "output_type": "stream",
     "text": [
      "-957.2642217157181\n"
     ]
    }
   ],
   "source": [
    "state, info = env.reset()\n",
    "render_frame(env)\n",
    "done = False\n",
    "\n",
    "r = 0\n",
    "while not done:\n",
    "\n",
    "    with torch.no_grad():\n",
    "        action, _ = p_network(torch.tensor(state))\n",
    "        action = action*env.action_space.high[0]\n",
    "\n",
    "    state, reward, done, truncated, _ = env.step(action.numpy())\n",
    "    done = done or truncated\n",
    "    render_frame(env)\n",
    "    r += reward\n",
    "\n",
    "print(r)"
   ]
  },
  {
   "cell_type": "markdown",
   "id": "8db611f1-4f33-4d2e-af9b-41410b89180a",
   "metadata": {},
   "source": [
    "**Reinforce is not able to solve this simple task. Notice that the standard PG loss in this environment has very high variance. Moreover, continuous action problems can be singificantly harder for simple baselines.**"
   ]
  },
  {
   "cell_type": "code",
   "execution_count": null,
   "id": "a9c99873-d208-4dc1-b7e4-6bd99ecf6791",
   "metadata": {},
   "outputs": [],
   "source": []
  }
 ],
 "metadata": {
  "kernelspec": {
   "display_name": "Python 3 (ipykernel)",
   "language": "python",
   "name": "python3"
  },
  "language_info": {
   "codemirror_mode": {
    "name": "ipython",
    "version": 3
   },
   "file_extension": ".py",
   "mimetype": "text/x-python",
   "name": "python",
   "nbconvert_exporter": "python",
   "pygments_lexer": "ipython3",
   "version": "3.11.5"
  }
 },
 "nbformat": 4,
 "nbformat_minor": 5
}
