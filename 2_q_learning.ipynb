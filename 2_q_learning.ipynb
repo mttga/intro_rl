{
 "cells": [
  {
   "cell_type": "markdown",
   "id": "121c3550-fb49-40c0-be20-20f46cd2a181",
   "metadata": {},
   "source": [
    "# Pendulum Control with Classic Q-Learning"
   ]
  },
  {
   "cell_type": "code",
   "execution_count": 1,
   "id": "0680e126-2f66-4901-aabb-02e19e46616c",
   "metadata": {},
   "outputs": [],
   "source": [
    "import os\n",
    "import gym\n",
    "import numpy as np\n",
    "import matplotlib.pyplot as plt\n",
    "from IPython.display import clear_output"
   ]
  },
  {
   "cell_type": "code",
   "execution_count": 2,
   "id": "b0690810-5a2e-486f-be11-4d72a3d724d2",
   "metadata": {},
   "outputs": [],
   "source": [
    "# Function to render in notebook\n",
    "def render_frame(env):\n",
    "    frame = env.render()  # Returns the rendered frame as an RGB array\n",
    "    plt.imshow(frame)\n",
    "    plt.axis('off')  # Hide axis for better visualization\n",
    "    clear_output(wait=True)  # Clear the previous frame\n",
    "    plt.show()"
   ]
  },
  {
   "cell_type": "code",
   "execution_count": 3,
   "id": "17f76772-1008-4a5c-ac39-09830270ca6c",
   "metadata": {},
   "outputs": [
    {
     "data": {
      "image/png": "[encoded data removed]",
      "text/plain": [
       "<Figure size 640x480 with 1 Axes>"
      ]
     },
     "metadata": {},
     "output_type": "display_data"
    }
   ],
   "source": [
    "# Initialize the environment\n",
    "env = gym.make(\"Pendulum-v1\", render_mode=\"rgb_array\")\n",
    "state, info = env.reset()\n",
    "\n",
    "render_frame(env)"
   ]
  },
  {
   "cell_type": "markdown",
   "id": "f42a52af-e159-46af-a1c9-48970ea258bc",
   "metadata": {},
   "source": [
    "### Goal \n",
    "- Apply torque on the free end to swing it into an upright position, with its center of gravity right above the fixed point.\n",
    "\n",
    "### Observation Space\n",
    "- The observation is a ndarray with shape (3,) of continuous variables representing the x-y coordinates of the pendulum’s free end and its angular velocity.\n",
    "    - x = cos(angle) [-1, 1]\n",
    "    - y = sin(angle) [-1, 1]\n",
    "    - z = theta, angular velocity [-8, 8]\n",
    "\n",
    "### Action\n",
    "- The torque applied to the end of the pendulum [-1, 1]\n",
    "\n",
    "### Reward\n",
    "- r = -(theta2 + 0.1 * theta_dt2 + 0.001 * torque2)\n",
    "    - max is 0 when the pendulum is upright and no torque is applied\n",
    "\n",
    "### End of episode\n",
    "- After 200 timesteps"
   ]
  },
  {
   "cell_type": "markdown",
   "id": "b6b5ce47-8fea-4cc8-bddc-ffac69c02ebf",
   "metadata": {},
   "source": [
    "### Random Policy"
   ]
  },
  {
   "cell_type": "code",
   "execution_count": 4,
   "id": "38218c58-a7f9-4d8f-bfe8-971279b75c24",
   "metadata": {},
   "outputs": [
    {
     "data": {
      "image/png": "[encoded data removed]",
      "text/plain": [
       "<Figure size 640x480 with 1 Axes>"
      ]
     },
     "metadata": {},
     "output_type": "display_data"
    }
   ],
   "source": [
    "# visualize random policy\n",
    "\n",
    "env = gym.make(\"Pendulum-v1\", render_mode=\"rgb_array\")\n",
    "state, info = env.reset()\n",
    "\n",
    "for _ in range(100):\n",
    "    state, reward, done, _, info = env.step(env.action_space.sample())\n",
    "    render_frame(env)\n",
    "\n",
    "env.close()"
   ]
  },
  {
   "cell_type": "code",
   "execution_count": 5,
   "id": "1e52184a-16c2-4f7e-8843-834f12f220cd",
   "metadata": {},
   "outputs": [
    {
     "data": {
      "text/plain": [
       "(Box([-1. -1. -8.], [1. 1. 8.], (3,), float32), Box(-2.0, 2.0, (1,), float32))"
      ]
     },
     "execution_count": 5,
     "metadata": {},
     "output_type": "execute_result"
    }
   ],
   "source": [
    "env.observation_space, env.action_space"
   ]
  },
  {
   "cell_type": "markdown",
   "id": "3960919f-636d-4ce3-bcaf-d8ea562f1777",
   "metadata": {},
   "source": [
    "### How can we apply Q-Learning?"
   ]
  },
  {
   "cell_type": "markdown",
   "id": "90f19cfb-1500-4510-a665-abe3031326ce",
   "metadata": {},
   "source": [
    "A simple way to extend Q-Learning to complex scenarios is to discretize the observation and action spaces."
   ]
  },
  {
   "cell_type": "code",
   "execution_count": 6,
   "id": "47db01c0-d859-4d6d-9bd5-bdb48df942a5",
   "metadata": {},
   "outputs": [
    {
     "data": {
      "text/plain": [
       "(array([0.25], dtype=float32), array([0.1 , 0.1 , 0.25]))"
      ]
     },
     "execution_count": 6,
     "metadata": {},
     "output_type": "execute_result"
    }
   ],
   "source": [
    "DISCRETE_ACTION_SPACE_SIZE = 17 # 17 actions\n",
    "DISCRETE_OS_SIZE = np.array([21, 21, 65]) # 21 states for x, 21 for y, 65 for the angle\n",
    "\n",
    "# create the windows\n",
    "discrete_action_space_win_size = (env.action_space.high - env.action_space.low) / (DISCRETE_ACTION_SPACE_SIZE - 1)\n",
    "discrete_os_win_size = (env.observation_space.high - env.observation_space.low) / (DISCRETE_OS_SIZE - 1)\n",
    "\n",
    "discrete_action_space_win_size, discrete_os_win_size"
   ]
  },
  {
   "cell_type": "code",
   "execution_count": 7,
   "id": "5dac3e01-8daa-455b-8f2e-f4b4f8f69452",
   "metadata": {},
   "outputs": [],
   "source": [
    "# mapping actions to the original action space\n",
    "action_space = {\n",
    "    i: [env.action_space.low[0] + (i * discrete_action_space_win_size[0])]\n",
    "    for i in range(DISCRETE_ACTION_SPACE_SIZE)\n",
    "}\n",
    "\n",
    "# mapping original continuous space to the discretized one\n",
    "def get_discrete_state(state):\n",
    "    ds = (state - env.observation_space.low) / discrete_os_win_size\n",
    "    return tuple(ds.astype(np.int32))"
   ]
  },
  {
   "cell_type": "code",
   "execution_count": 8,
   "id": "06ae2c27-99a1-486c-b529-8fa5caa2d40e",
   "metadata": {},
   "outputs": [
    {
     "name": "stdout",
     "output_type": "stream",
     "text": [
      "Discretized space: (0, 12, 32)\n",
      "First action [-2.0]\n",
      "Last action [2.0]\n"
     ]
    }
   ],
   "source": [
    "state, info = env.reset()\n",
    "\n",
    "print(f'Discretized space: {get_discrete_state(state)}')\n",
    "print('First action', action_space[0])\n",
    "print('Last action', action_space[16])"
   ]
  },
  {
   "cell_type": "markdown",
   "id": "66cda1be-f52e-42b9-b76c-e863e27b70b2",
   "metadata": {},
   "source": [
    "Now we can have a table of Q-Values that we can optimize."
   ]
  },
  {
   "cell_type": "code",
   "execution_count": 9,
   "id": "2fc13e8d-39d1-4157-bc82-ad0fd640a546",
   "metadata": {},
   "outputs": [
    {
     "data": {
      "text/plain": [
       "(21, 21, 65, 17)"
      ]
     },
     "execution_count": 9,
     "metadata": {},
     "output_type": "execute_result"
    }
   ],
   "source": [
    "q_table = np.random.uniform(low=-2, high=-0, size=(*DISCRETE_OS_SIZE, DISCRETE_ACTION_SPACE_SIZE))\n",
    "q_table.shape"
   ]
  },
  {
   "cell_type": "markdown",
   "id": "780c5a77-b722-4169-a317-c877fd1142dd",
   "metadata": {},
   "source": [
    "We also need a epsilon decay function to balance exploration and exploitation during learning."
   ]
  },
  {
   "cell_type": "code",
   "execution_count": 10,
   "id": "a908c113-7b5c-45ce-8508-c4e317a8a554",
   "metadata": {},
   "outputs": [
    {
     "data": {
      "image/png": "[encoded data removed]",
      "text/plain": [
       "<Figure size 640x480 with 1 Axes>"
      ]
     },
     "metadata": {},
     "output_type": "display_data"
    }
   ],
   "source": [
    "def get_eps(episode, min_eps=0.1, decay_fraction=0.2, total_episodes=15000):\n",
    "    return max(min_eps, episode*(min_eps-1)/(total_episodes*decay_fraction)+1)\n",
    "\n",
    "plt.plot([get_eps(x) for x in range(15000)])\n",
    "plt.xlabel('Episode')\n",
    "plt.ylabel('eps')\n",
    "plt.show()"
   ]
  },
  {
   "cell_type": "markdown",
   "id": "5a751a10-7a19-4f3e-bb9f-19dd377e84bb",
   "metadata": {},
   "source": [
    "### Q Learning"
   ]
  },
  {
   "cell_type": "markdown",
   "id": "9af5e7bd-976b-4cde-832b-1fae5b26eefc",
   "metadata": {},
   "source": [
    "![qlearning](img/qlearning.png)"
   ]
  },
  {
   "cell_type": "code",
   "execution_count": 13,
   "id": "770faa9f-477e-400b-bf9b-c84dea07634a",
   "metadata": {},
   "outputs": [],
   "source": [
    "def q_learning(env, gamma=0.95, eps_decay_fraction=0.1, learning_rate=0.1, num_episodes=150000):\n",
    "    \n",
    "    q_table = np.random.uniform(low=-2, high=-0, size=(*DISCRETE_OS_SIZE, DISCRETE_ACTION_SPACE_SIZE))\n",
    "    \n",
    "    # track the episode returns\n",
    "    returns = []\n",
    "    for episode in range(1,num_episodes+1):\n",
    "        \n",
    "        episode_return = 0\n",
    "        state, info = env.reset()\n",
    "        discrete_state = get_discrete_state(state)\n",
    "        done = False\n",
    "    \n",
    "        while not done:\n",
    "    \n",
    "            eps = get_eps(episode, decay_fraction=eps_decay_fraction, total_episodes=num_episodes)\n",
    "            \n",
    "            if np.random.random() > eps:\n",
    "                # Get action from Q table\n",
    "                action = np.argmax(q_table[discrete_state])\n",
    "            else:\n",
    "                # Get random action\n",
    "                action = np.random.randint(0, DISCRETE_ACTION_SPACE_SIZE)\n",
    "    \n",
    "            # apply the action to the environment\n",
    "            torque = action_space[action]\n",
    "            new_state, reward, done, truncated, _ = env.step(torque)\n",
    "            done = done or truncated # same thing here\n",
    "            episode_return += reward\n",
    "            new_discrete_state = get_discrete_state(new_state)\n",
    "            \n",
    "            if not done:\n",
    "    \n",
    "                q = q_table[*discrete_state, action]\n",
    "                next_q = np.max(q_table[new_discrete_state])\n",
    "    \n",
    "                # Update with the TD-Error\n",
    "                new_q = (1 - learning_rate)*q + learning_rate * (reward + gamma * next_q)\n",
    "    \n",
    "                # update\n",
    "                q_table[*discrete_state, action] = new_q\n",
    "    \n",
    "            discrete_state = new_discrete_state\n",
    "    \n",
    "        returns.append(episode_return)\n",
    "    \n",
    "        # log\n",
    "        if episode % 10000 == 0:\n",
    "            print(f'Episode {episode}, returns: {np.mean(returns[-10000:])}')\n",
    "\n",
    "    return q_table, returns"
   ]
  },
  {
   "cell_type": "code",
   "execution_count": 14,
   "id": "0b71a607-7736-436a-b463-f3c5fed1eb05",
   "metadata": {},
   "outputs": [
    {
     "name": "stdout",
     "output_type": "stream",
     "text": [
      "Episode 10000, returns: -1189.5898228361918\n",
      "Episode 20000, returns: -923.7606074293445\n",
      "Episode 30000, returns: -702.2563386978474\n",
      "Episode 40000, returns: -525.574657113411\n",
      "Episode 50000, returns: -425.4105716628312\n",
      "Episode 60000, returns: -356.4214458038922\n",
      "Episode 70000, returns: -318.6317818249241\n",
      "Episode 80000, returns: -278.2149863515209\n",
      "Episode 90000, returns: -258.9686305559568\n",
      "Episode 100000, returns: -243.8793985581637\n",
      "Episode 110000, returns: -267.4728816832828\n",
      "Episode 120000, returns: -235.49653700758876\n",
      "Episode 130000, returns: -222.85840697042158\n",
      "Episode 140000, returns: -219.35781915449627\n",
      "Episode 150000, returns: -220.4670782480672\n",
      "CPU times: user 7min 39s, sys: 7.28 s, total: 7min 46s\n",
      "Wall time: 7min 41s\n"
     ]
    }
   ],
   "source": [
    "%%time\n",
    "q_table, returns = q_learning(env, num_episodes=150000)"
   ]
  },
  {
   "cell_type": "code",
   "execution_count": 15,
   "id": "d13e5168-08b9-4895-ae44-3a444f9fa0d7",
   "metadata": {},
   "outputs": [
    {
     "data": {
      "text/plain": [
       "Text(0, 0.5, 'Returns')"
      ]
     },
     "execution_count": 15,
     "metadata": {},
     "output_type": "execute_result"
    },
    {
     "data": {
      "image/png": "[encoded data removed]",
      "text/plain": [
       "<Figure size 640x480 with 1 Axes>"
      ]
     },
     "metadata": {},
     "output_type": "display_data"
    }
   ],
   "source": [
    "def running_mean(x, N=1000):\n",
    "    cumsum = np.cumsum(np.insert(x, 0, 0)) \n",
    "    return (cumsum[N:] - cumsum[:-N]) / float(N)\n",
    "\n",
    "plt.plot(running_mean(returns))\n",
    "plt.xlabel('Episode')\n",
    "plt.ylabel('Returns')"
   ]
  },
  {
   "cell_type": "code",
   "execution_count": 18,
   "id": "58b50d6f-0191-4a33-b399-05aef02d4649",
   "metadata": {},
   "outputs": [
    {
     "data": {
      "image/png": "[encoded data removed]",
      "text/plain": [
       "<Figure size 640x480 with 1 Axes>"
      ]
     },
     "metadata": {},
     "output_type": "display_data"
    },
    {
     "name": "stdout",
     "output_type": "stream",
     "text": [
      "-2.8494814076334647\n"
     ]
    }
   ],
   "source": [
    "state, info = env.reset()\n",
    "render_frame(env)\n",
    "done = False\n",
    "\n",
    "r = 0\n",
    "while not done:\n",
    "\n",
    "    discrete_state = get_discrete_state(state)\n",
    "    action = np.argmax(q_table[discrete_state])\n",
    "\n",
    "    # apply the action to the environment\n",
    "    torque = action_space[action]\n",
    "    state, reward, done, truncated, _ = env.step(torque)\n",
    "    done = done or truncated\n",
    "    render_frame(env)\n",
    "    r += reward\n",
    "\n",
    "print(r)"
   ]
  },
  {
   "cell_type": "code",
   "execution_count": null,
   "id": "fd98cc61-7933-431e-b289-28a16fcd12bd",
   "metadata": {},
   "outputs": [],
   "source": []
  }
 ],
 "metadata": {
  "kernelspec": {
   "display_name": "intro_rl",
   "language": "python",
   "name": "intro_rl"
  },
  "language_info": {
   "codemirror_mode": {
    "name": "ipython",
    "version": 3
   },
   "file_extension": ".py",
   "mimetype": "text/x-python",
   "name": "python",
   "nbconvert_exporter": "python",
   "pygments_lexer": "ipython3",
   "version": "3.11.10"
  }
 },
 "nbformat": 4,
 "nbformat_minor": 5
}
